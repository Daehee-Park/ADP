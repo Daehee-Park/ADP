{
 "cells": [
  {
   "cell_type": "code",
   "execution_count": 1,
   "metadata": {},
   "outputs": [],
   "source": [
    "import pandas as pd\n",
    "import numpy as np\n",
    "import matplotlib.pyplot as plt\n",
    "import seaborn as sns"
   ]
  },
  {
   "cell_type": "markdown",
   "metadata": {},
   "source": [
    "### EDA(탐색적 분석)\n",
    "\n",
    "- 도수분포표\n",
    "```python\n",
    "df['column'].value_counts()\n",
    "```\n",
    "- 상대도수분포표\n",
    "```python\n",
    "df['column'].value_counts(normalize=True)\n",
    "```"
   ]
  },
  {
   "cell_type": "markdown",
   "metadata": {},
   "source": [
    "- 스피어만 상관계수, 피어슨 상관계수, 켄달 상관계수\n",
    "```python\n",
    "from scipy.stats import spearmanr, pearsonr, kendalltau\n",
    "1. df.corr(method='spearman')\n",
    "2. spearmanr(df['column1'], df['column2'])\n",
    "3. pearsonr(df['column1'], df['column2'])\n",
    "4. kendalltau(df['column1'], df['column2'])\n",
    "```"
   ]
  },
  {
   "cell_type": "code",
   "execution_count": 23,
   "metadata": {},
   "outputs": [],
   "source": [
    "df = pd.read_csv('titanic/train.csv')"
   ]
  },
  {
   "cell_type": "code",
   "execution_count": 33,
   "metadata": {},
   "outputs": [
    {
     "name": "stdout",
     "output_type": "stream",
     "text": [
      "Correlation: -0.3397, p-value: 0.0000\n"
     ]
    }
   ],
   "source": [
    "from scipy.stats import spearmanr, pearsonr, kendalltau\n",
    "\n",
    "corr, p = spearmanr(df['Survived'], df['Pclass'])\n",
    "print(f'Correlation: {corr:.4f}, p-value: {p:.4f}')"
   ]
  },
  {
   "cell_type": "code",
   "execution_count": null,
   "metadata": {},
   "outputs": [],
   "source": []
  }
 ],
 "metadata": {
  "kernelspec": {
   "display_name": "Python 3",
   "language": "python",
   "name": "python3"
  },
  "language_info": {
   "codemirror_mode": {
    "name": "ipython",
    "version": 3
   },
   "file_extension": ".py",
   "mimetype": "text/x-python",
   "name": "python",
   "nbconvert_exporter": "python",
   "pygments_lexer": "ipython3",
   "version": "3.7.4"
  },
  "orig_nbformat": 4
 },
 "nbformat": 4,
 "nbformat_minor": 2
}
