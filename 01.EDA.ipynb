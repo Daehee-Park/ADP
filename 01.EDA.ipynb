{
 "cells": [
  {
   "cell_type": "markdown",
   "metadata": {},
   "source": [
    "## 한글 폰트 에러 해결법\n",
    "```python\n",
    "import matplotlib.pyplot as plt\n",
    "from matplotlib import font_manager, rc\n",
    "font_path = \"C:/Windows/Fonts/malgun.ttf\"\n",
    "font_name = font_manager.FontProperties(fname=font_path).get_name()\n",
    "rc('font', family=font_name)\n",
    "plt.rcParams['axes.unicode_minus'] =False\n",
    "```"
   ]
  },
  {
   "cell_type": "markdown",
   "metadata": {},
   "source": [
    "### 또 다른 한글 폰트 에러 해결법\n",
    "```python\n",
    "import matplotlib.pyplot as plt\n",
    "plt.rcParams['font.family'] = 'Malgun Gothic'\n",
    "plt.rcParams['axes.unicode_minus'] =False\n",
    "```"
   ]
  },
  {
   "cell_type": "markdown",
   "metadata": {},
   "source": [
    "## Matplotlib 사용법\n",
    "\n",
    "### 기본 사용법\n",
    "```python\n",
    "plt.plot(x, y, label='Line 1')\n",
    "plt.title('Line Plot Example')\n",
    "plt.xlabel('X-axis')\n",
    "plt.ylabel('Y-axis')\n",
    "plt.legend(['Line 1'], loc='upper right', frameon=False) # 범례 컬럼, 위치, 테두리여부\n",
    "plt.show()\n",
    "```\n",
    "\n",
    "### 그래프 종류\n",
    "```python\n",
    "plt.bar(categories, values)\n",
    "plt.hist(data, bins=5, edgecolor='black')\n",
    "plt.scatter(x, y)\n",
    "plt.boxplot(data)\n",
    "```"
   ]
  },
  {
   "cell_type": "markdown",
   "metadata": {},
   "source": [
    "### Pyplot 이용법\n",
    "```python\n",
    "from matplotlib import pyplot as plt\n",
    "plt.figure(figsize=(10, 6)) # figsize=(width, height)\n",
    "fig, ax = plt.subplots(1, 2, figsize=(10, 6)) # 1행 2열로 그래프 그리기, 전체 그래프 크기는 가로 10, 세로 6\n",
    "# ax[0]: 첫번째 그래프, ax[1]: 두번째 그래프\n",
    "# lineplot\n",
    "ax[0].plot(x, y, label='Line 1')\n",
    "ax[0].set_title('Line Plot Example')\n",
    "ax[0].set_xlabel('X-axis')\n",
    "ax[0].set_ylabel('Y-axis')\n",
    "ax[0].legend(['Line 1'], loc='upper right', frameon=False) # 범례 컬럼, 위치, 테두리여부\n",
    "# barplot\n",
    "ax[1].bar(categories, values)\n",
    "ax[1].set_title('Bar Plot Example')\n",
    "ax[1].set_xlabel('X-axis')\n",
    "ax[1].set_ylabel('Y-axis')\n",
    "plt.show()\n",
    "# pieplot (pieplot은 seaborn으로는 불가)\n",
    "plt.pie(sizes, labels=labels, autopct='%1.1f%%', shadow=True, startangle=90, explode=explode)\n",
    "# autopct: 퍼센트로 숫자 표시 / shadow: 그림자 여부 / startangle: 시작 각도 / counterclock: 시계방향 여부\n",
    "```"
   ]
  },
  {
   "cell_type": "markdown",
   "metadata": {},
   "source": [
    "### Seaborn 이용법\n",
    "```python\n",
    "sns.lineplot(x=x, y=y)\n",
    "plt.title('Line Plot Example')\n",
    "plt.xlabel('X-axis')\n",
    "plt.ylabel('Y-axis')\n",
    "plt.show()\n",
    "```\n",
    "\n",
    "### Seaborn 그래프 종류\n",
    "```python\n",
    "sns.lineplot(x=x, y=y, ci=0.95, palette='Set2') # ci: 신뢰구간 / palette: 색상 팔레트\n",
    "sns.barplot(x=categories, y=values, ci=0.95, palette='Set2') # ci: 신뢰구간 / palette: 색상 팔레트\n",
    "sns.histplot(data, bins=5, kde=True, color='red', edgecolor='black', linewidth=2, alpha=0.5, label='Data', legend=True, binwidth=10, shrink=0.8)\n",
    "# kde: 커널 밀도 추정 / alpha: 투명도 / binwidth: 막대 너비 / legend: 범례 표시 여부 / shrink: 막대 너비 조절\n",
    "sns.countplot(data=df, x='column', hue='column', palette='Set2', order=df['column'].value_counts().index) # order: 막대 순서로, 빈도가 높은 순서대로 정렬\n",
    "\n",
    "# histplot으로 Pareto Chart도 그릴 수 있음\n",
    "sns.histplot(data, bins=5, kde=True, cumulative=True, stat='density', color='red', edgecolor='black', linewidth=2, alpha=0.5, label='Pareto Chart', legend=True, binwidth=10)\n",
    "# cumulative: 누적 그래프 / stat: y축 값 (count, frequency, density, probability)\n",
    "\n",
    "sns.scatterplot(x=x, y=y, hue=categories, marker='^', s=100) # hue: 카테고리별 색상 구분 / marker: 마커 모양 / s: 마커 크기\n",
    "sns.boxplot(data, orient='v', color='red', width=0.2, fliersize=3, whis=1.5) # orient: 수평/수직 / width: 박스 너비 / fliersize: 이상치 마커 크기 / whis: Whisker(수염) 길이\n",
    "```\n",
    "\n",
    "\n",
    "### Seaborn 주요 시각화 옵션\n",
    "```python\n",
    "sns.set_style('whitegrid') # whitegrid, darkgrid, white, dark, ticks\n",
    "sns.set_palette('Set2')\n",
    "# 주요 Palette: Set1, Set2, Set3, Paired, Pastel1, Pastel2, bright, muted, deep, colorblind\n",
    "sns.set_context('paper', font_scale=1.5, rc={'lines.linewidth': 2.5}) # paper, notebook, talk, poster / font_scale: 글자 크기 / rc: run command, 디테일한 파라미터 수정 가능\n",
    "```\n",
    "```python\n",
    "# 사용 가능한 Marker\n",
    "'o': 원 (Circle)\n",
    "'s': 사각형 (Square)\n",
    "'^': 위로 향하는 삼각형 (Upward Triangle)\n",
    "'v': 아래로 향하는 삼각형 (Downward Triangle)\n",
    "'<': 왼쪽으로 향하는 삼각형 (Leftward Triangle)\n",
    "'>': 오른쪽으로 향하는 삼각형 (Rightward Triangle)\n",
    "'+': 플러스 모양 (Plus)\n",
    "'x': 엑스 모양 (X)\n",
    "'*': 별 모양 (Star)\n",
    "'D': 다이아몬드 (Diamond)\n",
    "'P': 오각형 (Pentagon)\n",
    "'H': 육각형 (Hexagon)\n",
    "```\n",
    "```python\n",
    "###### 사용 가능한 rc 파라미터 ######\n",
    "{'axes.labelsize': 17.6, # x, y축 라벨 크기\n",
    " 'axes.titlesize': 19.2, # 그래프 제목 크기\n",
    " 'font.size': 19.2, # 글자 크기\n",
    " 'grid.linewidth': 1.6, # 그리드 선 두께\n",
    " 'legend.fontsize': 16.0, # 범례 크기\n",
    " 'lines.linewidth': 2.8, # 선 두께\n",
    " 'lines.markeredgewidth': 0.0, # 마커 선 두께\n",
    " 'lines.markersize': 11.2, # 마커 크기\n",
    " 'patch.linewidth': 0.48, # 패치 선 두께\n",
    " 'xtick.labelsize': 16.0, # x축 눈금 크기\n",
    " 'xtick.major.pad': 11.2, # x축 눈금과 라벨 사이 간격\n",
    " 'xtick.major.width': 1.6, # x축 눈금 두께\n",
    " 'xtick.minor.width': 0.8, # x축 보조 눈금 두께\n",
    " 'ytick.labelsize': 16.0, # y축 눈금 크기\n",
    " 'ytick.major.pad': 11.2, # y축 눈금과 라벨 사이 간격\n",
    " 'ytick.major.width': 1.6, # y축 눈금 두께\n",
    " 'ytick.minor.width': 0.8} # y축 보조 눈금 두께\n",
    " ##################################\n",
    "plt.figure(figsize=(10, 6)) # figsize=(width, height)\n",
    "\n",
    "# 수평선/수직선 그리기\n",
    "fig, ax = plt.subplots() # fig: 전체 그래프, ax: 그래프 내부\n",
    "ax.axvline(x=4000, color='r', linestyle='--') # x=4000에서 수직선, 색상은 빨강, 점선\n",
    "ax.axhline(y=600000, color='g', linestyle=':') # y=600000에서 수평선, 색상은 초록, 점선\n",
    "sns.scatterplot(x=train['GrLivArea'], y=train['SalePrice'], hue=train['OverallQual'], palette=\"Blues\", linewidth=0.8, s=20, alpha=0.8, ax=ax)\n",
    "## 사용가능한 linestyle ##\n",
    "'-' (solid): 실선\n",
    "'--' (dashed): 파선\n",
    "':' (dotted): 점선\n",
    "'-.' (dashdot): 대시-닷 선\n",
    "##\n",
    "```"
   ]
  },
  {
   "cell_type": "code",
   "execution_count": 2,
   "metadata": {},
   "outputs": [],
   "source": [
    "import pandas as pd\n",
    "import numpy as np\n",
    "import matplotlib.pyplot as plt\n",
    "import seaborn as sns"
   ]
  },
  {
   "cell_type": "code",
   "execution_count": 3,
   "metadata": {},
   "outputs": [],
   "source": [
    "df = pd.read_csv('titanic/train.csv')"
   ]
  },
  {
   "cell_type": "code",
   "execution_count": 22,
   "metadata": {},
   "outputs": [
    {
     "data": {
      "image/png": "[encoded data removed]",
      "text/plain": [
       "<Figure size 504x504 with 1 Axes>"
      ]
     },
     "metadata": {},
     "output_type": "display_data"
    }
   ],
   "source": [
    "import matplotlib.pyplot as plt\n",
    "# Data\n",
    "labels = ['Apple', 'Banana', 'Cherry', 'Date']\n",
    "sizes = [15, 30, 45, 10]\n",
    "explode = (0, 0.1, 0, 0)  # explode로 특정 부분을 강조하듯 떼어낼 수 있음, 튜플로 입력해야 함\n",
    "\n",
    "plt.figure(figsize=(7,7), facecolor='white') # facecolor는 배경색, 안하면 검정색으로 보기 어려움\n",
    "plt.title('Pieplot of Fruit')\n",
    "plt.pie(sizes, labels=labels, autopct='%1.1f%%', shadow=True, startangle=90, explode=explode)\n",
    "plt.show()"
   ]
  }
 ],
 "metadata": {
  "kernelspec": {
   "display_name": "Python 3.7.4 ('ADP': venv)",
   "language": "python",
   "name": "python3"
  },
  "language_info": {
   "codemirror_mode": {
    "name": "ipython",
    "version": 3
   },
   "file_extension": ".py",
   "mimetype": "text/x-python",
   "name": "python",
   "nbconvert_exporter": "python",
   "pygments_lexer": "ipython3",
   "version": "3.7.4"
  },
  "orig_nbformat": 4,
  "vscode": {
   "interpreter": {
    "hash": "64df2b5c0d75980c000f93aa706f03927c32d7fe53a04d5f72efc116386d713c"
   }
  }
 },
 "nbformat": 4,
 "nbformat_minor": 2
}
