{
 "cells": [
  {
   "cell_type": "code",
   "execution_count": 3,
   "metadata": {},
   "outputs": [],
   "source": [
    "import pandas as pd\n",
    "import numpy as np\n",
    "import matplotlib.pyplot as plt\n",
    "import seaborn as sns"
   ]
  },
  {
   "attachments": {},
   "cell_type": "markdown",
   "metadata": {},
   "source": [
    "#### 1.1 카이제곱 검정"
   ]
  },
  {
   "cell_type": "code",
   "execution_count": 4,
   "metadata": {},
   "outputs": [
    {
     "name": "stdout",
     "output_type": "stream",
     "text": [
      "카이제곱 검정 결과 통계량: 2.0000, p-value: 0.8491\n",
      "카이제곱 검정 결과 통계량: 8.5952, p-value: 0.0034\n",
      "카이제곱 검정 결과 통계량: 26.7644, p-value: 0.0442\n"
     ]
    }
   ],
   "source": [
    "# 카이제곱 분포 (정규분포를 따르는 모집단에서 크기가 n인 표본을 무작위 반복 추출할 때, 각 표본의 분산을 합한 값의 분포)\n",
    "\n",
    "# 카이제곱 분포는 범주형 변수들의 적합도 검정, 독립성 검정, 동질성 검정에 사용됨\n",
    "# e.g. 주사위 던지기: 주사위를 100번 던졌을 때, 1~6 이 나온 횟수를 카이제곱 검정을 통해 주사위가 공정한지 검정 (적합도 검정)\n",
    "# e.g. 성별에 따른 흡연율: 남성 100명, 여성 100명을 대상으로 흡연 여부를 조사하여, 성별에 따라 흡연율이 다른지 검정 (독립성 검정)\n",
    "# e.g. 5개의 공장에서 동일한 제품을 생산하였을 때, 5개의 공장에서 생산된 제품의 품질이 동일한지 검정 (동질성 검정)\n",
    "\n",
    "# 적합도 검정\n",
    "from scipy.stats import chisquare\n",
    "cubic = [15, 20, 15, 20, 15, 15] # 주사위를 100번 던졌을 때, 1~6 이 나온 실제 횟수\n",
    "theoretical_cube = [100/6, 100/6, 100/6, 100/6, 100/6, 100/6] # 이론적으로 주사위를 100번 던졌을 때, 1~6 이 나올 확률 (동일)\n",
    "cubic_chi = chisquare(cubic, theoretical_cube) # 카이제곱 검정\n",
    "print(f'카이제곱 검정 결과 통계량: {cubic_chi[0]:.4f}, p-value: {cubic_chi[1]:.4f}') # p-value가 0.05보다 크므로 주사위는 공정하다고 할 수 있음\n",
    "\n",
    "# 독립성 검정\n",
    "from scipy.stats import chi2_contingency\n",
    "man_smoke = [40, 60]  # 남성 100명 중 흡연자 40명, 비흡연자 60명\n",
    "woman_smoke = [20, 80]  # 여성 100명 중 흡연자 20명, 비흡연자 80명\n",
    "smoking_table = [man_smoke, woman_smoke]\n",
    "chi2_val, p_val, dof, expected = chi2_contingency(smoking_table)\n",
    "print(f'카이제곱 검정 결과 통계량: {chi2_val:.4f}, p-value: {p_val:.4f}')  # p-value가 0.05보다 작으므로 성별에 따라 흡연율이 다르다고 할 수 있음\n",
    "\n",
    "# 동질성 검정\n",
    "from scipy.stats import chi2_contingency\n",
    "factory1 = [18, 7, 10, 15, 20] # 5개의 공장에서 생산된 제품의 품질\n",
    "factory2 = [10, 10, 20, 20, 10]\n",
    "factory3 = [20, 20, 20, 20, 20]\n",
    "factory4 = [10, 10, 20, 20, 10]\n",
    "factory5 = [20, 20, 10, 15, 15]\n",
    "quality_table = [factory1, factory2, factory3, factory4, factory5]\n",
    "chi2_val, p_val, dof, expected = chi2_contingency(quality_table)\n",
    "print(f'카이제곱 검정 결과 통계량: {chi2_val:.4f}, p-value: {p_val:.4f}') # p-value가 0.05보다 작으므로 5개의 공장에서 생산된 제품의 품질은 동일하다고 할 수 없음"
   ]
  },
  {
   "attachments": {},
   "cell_type": "markdown",
   "metadata": {},
   "source": [
    "#### 1.2 t 분포 및 검정"
   ]
  },
  {
   "cell_type": "code",
   "execution_count": 5,
   "metadata": {},
   "outputs": [
    {
     "name": "stdout",
     "output_type": "stream",
     "text": [
      "one sample t-검정 결과 통계량: 0.0000, p-value: 1.0000\n",
      "two sample t-검정 결과 통계량: 5.1113, p-value: 0.0001\n",
      "paired t-검정 결과 통계량: inf, p-value: 0.0000\n"
     ]
    },
    {
     "name": "stderr",
     "output_type": "stream",
     "text": [
      "c:\\Users\\HP\\AppData\\Local\\Programs\\Python\\Python310\\lib\\site-packages\\scipy\\stats\\_axis_nan_policy.py:523: RuntimeWarning: Precision loss occurred in moment calculation due to catastrophic cancellation. This occurs when the data are nearly identical. Results may be unreliable.\n",
      "  res = hypotest_fun_out(*samples, **kwds)\n"
     ]
    }
   ],
   "source": [
    "# t-분포 (집단의 평균을 비교할 때 사용, 특히 샘플 크기가 작을 때 유용)\n",
    "## 단일 표본 t-검정 (One-sample t-test)\n",
    "### e.g. 축구 선수 평균 키가 180cm인지 검정\n",
    "from scipy.stats import ttest_1samp\n",
    "soccer_height = [170, 175, 180, 185, 190]  # 5명의 축구 선수의 키\n",
    "t_stat, p_val = ttest_1samp(soccer_height, 180)\n",
    "print(f'one sample t-검정 결과 통계량: {t_stat:.4f}, p-value: {p_val:.4f}')  # p-value가 0.05보다 크므로 축구 선수 평균 키가 180cm이라고 할 수 있음\n",
    "\n",
    "## 두 독립 표본 t-검정 (Two-sample t-test)\n",
    "### e.g. 남성과 여성의 평균 키 비교\n",
    "from scipy.stats import ttest_ind\n",
    "male_height = [170, 175, 180, 185, 190, 175, 180, 185, 190, 195]  # 10명의 남성의 키\n",
    "female_height = [160, 165, 170, 175, 165, 158, 162, 166, 170, 175]  # 10명의 여성의 키\n",
    "t_stat, p_val = ttest_ind(male_height, female_height)\n",
    "print(f'two sample t-검정 결과 통계량: {t_stat:.4f}, p-value: {p_val:.4f}')  # p-value가 0.05보다 작으므로 두 집단의 평균이 다르다고 할 수 있음\n",
    "\n",
    "## 대응 표본 t-검정 (Paired t-test)\n",
    "### e.g. 특정 약을 복용하기 전과 후의 혈압 차이 검정\n",
    "from scipy.stats import ttest_rel\n",
    "before_drug = [120, 130, 125, 140, 145, 135, 130, 125, 140, 135]  # 약 복용 전 혈압\n",
    "after_drug = [110, 120, 115, 130, 135, 125, 120, 115, 130, 125]  # 약 복용 후 혈압\n",
    "t_stat, p_val = ttest_rel(before_drug, after_drug)\n",
    "print(f'paired t-검정 결과 통계량: {t_stat:.4f}, p-value: {p_val:.4f}')  # p-value가 0.05보다 작으므로 약 복용 전후의 혈압이 다르다고 할 수 있음"
   ]
  },
  {
   "attachments": {},
   "cell_type": "markdown",
   "metadata": {},
   "source": [
    "#### 1.3 F 분포 및 ANOVA검정"
   ]
  },
  {
   "cell_type": "code",
   "execution_count": 6,
   "metadata": {},
   "outputs": [
    {
     "name": "stdout",
     "output_type": "stream",
     "text": [
      "F-검정 결과 통계량: 5.7660, p-value: 0.0030\n",
      "   Multiple Comparison of Means - Tukey HSD, FWER=0.05   \n",
      "=========================================================\n",
      " group1   group2  meandiff p-adj   lower    upper  reject\n",
      "---------------------------------------------------------\n",
      "factory1 factory2     -4.8 0.1991 -11.1562  1.5562  False\n",
      "factory1 factory3      5.2 0.1433  -1.1562 11.5562  False\n",
      "factory1 factory4     -0.2    1.0  -6.5562  6.1562  False\n",
      "factory1 factory5      1.6 0.9409  -4.7562  7.9562  False\n",
      "factory2 factory3     10.0 0.0011   3.6438 16.3562   True\n",
      "factory2 factory4      4.6 0.2328  -1.7562 10.9562  False\n",
      "factory2 factory5      6.4 0.0479   0.0438 12.7562   True\n",
      "factory3 factory4     -5.4 0.1206 -11.7562  0.9562  False\n",
      "factory3 factory5     -3.6 0.4591  -9.9562  2.7562  False\n",
      "factory4 factory5      1.8 0.9123  -4.5562  8.1562  False\n",
      "---------------------------------------------------------\n"
     ]
    }
   ],
   "source": [
    "# F-분포 (두 모집단의 분산을 비교할 때 사용)\n",
    "# One way ANOVA 분석\n",
    "## e.g. 두 공장에서 생산된 제품의 품질 비교\n",
    "from scipy.stats import f_oneway\n",
    "factory1 = [18, 7, 10, 15, 20] # 5개의 공장에서 생산된 제품의 품질\n",
    "factory2 = [8, 11, 9, 6, 12]\n",
    "factory3 = [18, 20, 20, 18, 20]\n",
    "factory4 = [14, 13, 15, 13, 14]\n",
    "factory5 = [20, 20, 10, 13, 15]\n",
    "f_stat, p_val = f_oneway(factory1, factory2, factory3, factory4, factory5)\n",
    "print(f'F-검정 결과 통계량: {f_stat:.4f}, p-value: {p_val:.4f}') # p-value가 0.05보다 작으므로 5개의 공장에서 생산된 제품의 품질은 동일하다고 할 수 없음\n",
    "\n",
    "# 사후 검정 (Tukey HSD); ANOVA 분석 결과 귀무가설을 기각했을 때, 어떤 집단이 다른 집단과 다른지 검정\n",
    "from statsmodels.stats.multicomp import pairwise_tukeyhsd\n",
    "import pandas as pd\n",
    "factory_df = pd.DataFrame({'quality': factory1 + factory2 + factory3 + factory4 + factory5, 'factory': ['factory1']*5 + ['factory2']*5 + ['factory3']*5 + ['factory4']*5 + ['factory5']*5})\n",
    "tukey = pairwise_tukeyhsd(factory_df['quality'], factory_df['factory'], alpha=0.05)\n",
    "print(tukey) # reject가 True인 경우, 두 집단의 평균이 다르다고 할 수 있음"
   ]
  }
 ],
 "metadata": {
  "kernelspec": {
   "display_name": "Python 3",
   "language": "python",
   "name": "python3"
  },
  "language_info": {
   "codemirror_mode": {
    "name": "ipython",
    "version": 3
   },
   "file_extension": ".py",
   "mimetype": "text/x-python",
   "name": "python",
   "nbconvert_exporter": "python",
   "pygments_lexer": "ipython3",
   "version": "3.10.11"
  },
  "orig_nbformat": 4
 },
 "nbformat": 4,
 "nbformat_minor": 2
}
