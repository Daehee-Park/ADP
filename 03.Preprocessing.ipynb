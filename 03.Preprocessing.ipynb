{
 "cells": [
  {
   "cell_type": "markdown",
   "metadata": {},
   "source": [
    "## 인코딩 방법 정리\n",
    "### 원핫인코딩 (One-Hot Encoding)\n",
    "- 원핫인코딩은 범주형 데이터를 수치형 데이터로 변환하는 방법입니다. 각 범주를 새로운 열로 나타내며, 해당 범주에 속하면 1, 속하지 않으면 0의 값을 가집니다.\n",
    "```python\n",
    "encoded_df = pd.get_dummies(df, columns=['CategoricalColumn'])\n",
    "```\n",
    "### 레이블인코딩 (Label Encoding)\n",
    "레이블인코딩은 범주형 데이터를 순차적인 숫자로 변환하는 방법입니다. 주의해야 할 점은 숫자의 크기에 의미가 없는 경우에는 사용하지 않는 것이 좋습니다.\n",
    "```python\n",
    "from sklearn.preprocessing import LabelEncoder\n",
    "\n",
    "label_encoder = LabelEncoder()\n",
    "df['CategoricalColumn'] = label_encoder.fit_transform(df['CategoricalColumn'])\n",
    "```\n",
    "### 순서인코딩 (Ordinal Encoding)\n",
    "순서인코딩은 범주형 데이터를 순서를 고려하여 숫자로 변환하는 방법입니다. 범주 간의 순서가 중요한 경우에 사용됩니다.\n",
    "```python\n",
    "order_mapping = {'Low': 0, 'Medium': 1, 'High': 2}\n",
    "df['CategoricalColumn'] = df['CategoricalColumn'].map(order_mapping)\n",
    "```\n",
    "### 타겟인코딩 (Target Encoding)\n",
    "타겟인코딩은 범주형 데이터를 해당 범주에 대한 타겟 변수의 평균 또는 다른 통계량으로 변환하는 방법입니다. 주로 회귀 문제에서 사용되며, 특정 범주의 타겟 변수 값을 대체하여 모델에 입력합니다.\n",
    "```python\n",
    "target_mapping = df.groupby('CategoricalColumn')['TargetColumn'].mean().to_dict()\n",
    "df['CategoricalColumn'] = df['CategoricalColumn'].map(target_mapping)\n",
    "```"
   ]
  },
  {
   "cell_type": "markdown",
   "metadata": {},
   "source": [
    "## 데이터 클리닝\n",
    "### 1. 결측치 처리\n",
    "- `df.isnull().sum()` # 결측치 개수 확인\n",
    "- `df.dropna()` # 결측치가 있는 행 제거\n",
    "- `df.fillna(0)` # 결측치를 0으로 대체\n",
    "- `df.fillna(df['Age'].mean(), inplace=True)` # 결측치를 평균값으로 대체\n",
    "- `df.fillna(df['Age'].median(), inplace=True)` # 결측치를 중앙값으로 대체\n",
    "- `df.fillna(df['Age'].mode()[0], inplace=True)` # 결측치를 최빈값으로 대체\n",
    "- `df['Age'].fillna(method='ffill', inplace=True)` # 결측치를 앞의 값으로 대체\n",
    "- `df['Age'].fillna(method='bfill', inplace=True)` # 결측치를 뒤의 값으로 대체\n",
    "- `df.interpolate(method='linear', inplace=True)` # 결측치를 선형으로 대체, 시계열 데이터에 적합\n",
    "- `df.interpolate(method='polynomial', order=2, inplace=True)` # 결측치를 2차 함수로 대체, 시계열 데이터에 적합\n",
    "- `df.interpolate(method='spline', order=2, inplace=True)` # 결측치를 2차 스플라인으로 대체, 시계열 데이터에 적합\n",
    "- `df.interpolate(method='krogh', inplace=True)` # 결측치를 Krogh 방법으로 대체, 시계열 데이터에 적합(Krogh는 곡선을 생성하지만 고차원 다항식을 생성하지 않아 과적합을 방지할 수 있음)\n",
    "- `df.interpolate(method='piecewise_polynomial', order=2, inplace=True)` # 결측치를 2차 다항식으로 대체, 시계열 데이터에 적합\n",
    "### 다중 대치법\n",
    "```python\n",
    "from sklearn.experimental import enable_iterative_imputer\n",
    "from sklearn.impute import IterativeImputer\n",
    "\n",
    "imputer = IterativeImputer(max_iter=10, random_state=0, initial_strategy='median', tol=0.001, n_nearest_features=4)\n",
    "# initial_strategy: 결측치를 대체할 초기값을 설정합니다. 'mean', 'median', 'most_frequent' 중 하나를 선택할 수 있습니다.\n",
    "# tol: 결측치 대체가 수렴하는 기준을 설정합니다.\n",
    "# n_nearest_features: 결측치 대체에 사용할 특성의 개수를 설정합니다. (default=None: 모든 특성 사용)\n",
    "imputed_df = pd.DataFrame(imputer.fit_transform(df))\n",
    "```\n",
    "\n",
    "### 2. 이상치 처리\n",
    "#### IQR(Interquartile Range, 사분범위) 기반 이상치 처리\n",
    "- `df.describe()` # 기술통계량 확인\n",
    "- `sns.boxplot(x=df['Column'], y=df['TargetColumn'])` # 상자그림으로 이상치 확인\n",
    "- `Q1 = df['Column'].quantile(0.25)` # 1사분위수\n",
    "- `Q3 = df['Column'].quantile(0.75)` # 3사분위수\n",
    "- `IQR = Q3 - Q1` # IQR(Interquartile Range, 사분범위)\n",
    "- `lower_bound = Q1 - 1.5 * IQR` # 하한값\n",
    "- `upper_bound = Q3 + 1.5 * IQR` # 상한값\n",
    "- `df = df[(df['Column'] >= lower_bound) & (df['Column'] <= upper_bound)]` # 이상치 제거\n",
    "#### Z-Score 기반 이상치 처리\n",
    "- `from scipy import stats`\n",
    "- `z_scores = np.abs(stats.zscore(df['Column']))` # Z-Score 계산\n",
    "- `threshold = 3` # 임계값 설정\n",
    "- `df = df[(z_scores < threshold)]` # 이상치 제거\n",
    "#### DBSCAN 기반 이상치 처리\n",
    "- `from sklearn.cluster import DBSCAN`\n",
    "- `outlier_detection = DBSCAN(min_samples=2, eps=3)` # eps: 이웃을 정의하는 거리, min_samples: 핵심 샘플의 최소 개수\n",
    "- `clusters = outlier_detection.fit_predict(df)` # 이상치를 제외한 모든 샘플의 클러스터 레이블을 반환\n",
    "- `df = df[clusters != -1]` # 이상치 제거\n",
    "#### Isolation Forest 기반 이상치 처리\n",
    "- `from sklearn.ensemble import IsolationForest`\n",
    "- `outlier_detection = IsolationForest(contamination=0.01)` # contamination: 이상치 비율\n",
    "- `clusters = outlier_detection.fit_predict(df)` # 이상치를 제외한 모든 샘플의 클러스터 레이블을 반환\n",
    "- `df = df[clusters != -1]` # 이상치 제거\n",
    "#### Local Outlier Factor 기반 이상치 처리\n",
    "- `from sklearn.neighbors import LocalOutlierFactor`\n",
    "- `outlier_detection = LocalOutlierFactor(n_neighbors=2, contamination=0.01)` # n_neighbors: 이웃의 개수, contamination: 이상치 비율\n",
    "- `clusters = outlier_detection.fit_predict(df)` # 이상치를 제외한 모든 샘플의 클러스터 레이블을 반환\n",
    "- `df = df[clusters != -1]` # 이상치 제거\n",
    "\n",
    "### 3. 중복 데이터 처리\n",
    "- `df.duplicated().sum()` # 중복 데이터 개수 확인\n",
    "- `df.drop_duplicates(inplace=True)` # 중복 데이터 제거\n",
    "\n",
    "### 4. 특성 공학\n",
    "- `df['NewColumn'] = df['Column1'] +-*/ df['Column2']` # 새로운 특성 생성\n",
    "- `df['NewColumn'] = df['Column1'] ** df['Column2']` # 새로운 특성 생성\n",
    "- `df['NewColumn'] = df['Column1'] % df['Column2']` # 새로운 특성 생성\n",
    "- `df['NewColumn'] = df['Column1'].apply(lambda x: x**2)` # 새로운 특성 생성\n",
    "- `df['NewColumn'] = df['Column1'].apply(lambda x: x**0.5)` # 새로운 특성 생성\n",
    "- `df['NewColumn'] = df['Column1'].apply(lambda x: np.log(x))` # 새로운 특성 생성\n",
    "- `df['NewColumn'] = df['Column1'].apply(lambda x: np.exp(x))` # 새로운 특성 생성\n",
    "\n",
    "### 5. 특성 선택\n",
    "#### 상관관계 기반 특성 선택\n",
    "- `df.corr()` # 상관관계 확인"
   ]
  },
  {
   "cell_type": "code",
   "execution_count": 1,
   "metadata": {},
   "outputs": [],
   "source": [
    "import pandas as pd\n",
    "train=pd.read_csv('train.csv')"
   ]
  },
  {
   "cell_type": "code",
   "execution_count": 2,
   "metadata": {},
   "outputs": [
    {
     "data": {
      "text/plain": [
       "<Axes: ylabel='SalePrice'>"
      ]
     },
     "execution_count": 2,
     "metadata": {},
     "output_type": "execute_result"
    },
    {
     "data": {
      "image/png": "[encoded data removed]",
      "text/plain": [
       "<Figure size 640x480 with 1 Axes>"
      ]
     },
     "metadata": {},
     "output_type": "display_data"
    }
   ],
   "source": [
    "import seaborn as sns\n",
    "import matplotlib.pyplot as plt\n",
    "\n",
    "sns.boxplot(y=train['SalePrice'])"
   ]
  }
 ],
 "metadata": {
  "kernelspec": {
   "display_name": "Python 3",
   "language": "python",
   "name": "python3"
  },
  "language_info": {
   "codemirror_mode": {
    "name": "ipython",
    "version": 3
   },
   "file_extension": ".py",
   "mimetype": "text/x-python",
   "name": "python",
   "nbconvert_exporter": "python",
   "pygments_lexer": "ipython3",
   "version": "3.10.11"
  },
  "orig_nbformat": 4
 },
 "nbformat": 4,
 "nbformat_minor": 2
}
