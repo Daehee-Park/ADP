{
 "cells": [
  {
   "cell_type": "markdown",
   "metadata": {},
   "source": [
    "## 인코딩 방법 정리\n",
    "### 원핫인코딩 (One-Hot Encoding)\n",
    "- 원핫인코딩은 범주형 데이터를 수치형 데이터로 변환하는 방법입니다. 각 범주를 새로운 열로 나타내며, 해당 범주에 속하면 1, 속하지 않으면 0의 값을 가집니다.\n",
    "```python\n",
    "encoded_df = pd.get_dummies(df, columns=['CategoricalColumn'])\n",
    "```\n",
    "### 레이블인코딩 (Label Encoding)\n",
    "레이블인코딩은 범주형 데이터를 순차적인 숫자로 변환하는 방법입니다. 주의해야 할 점은 숫자의 크기에 의미가 없는 경우에는 사용하지 않는 것이 좋습니다.\n",
    "```python\n",
    "from sklearn.preprocessing import LabelEncoder\n",
    "\n",
    "label_encoder = LabelEncoder()\n",
    "df['CategoricalColumn'] = label_encoder.fit_transform(df['CategoricalColumn'])\n",
    "```\n",
    "### 순서인코딩 (Ordinal Encoding)\n",
    "순서인코딩은 범주형 데이터를 순서를 고려하여 숫자로 변환하는 방법입니다. 범주 간의 순서가 중요한 경우에 사용됩니다.\n",
    "```python\n",
    "order_mapping = {'Low': 0, 'Medium': 1, 'High': 2}\n",
    "df['CategoricalColumn'] = df['CategoricalColumn'].map(order_mapping)\n",
    "```\n",
    "### 타겟인코딩 (Target Encoding)\n",
    "타겟인코딩은 범주형 데이터를 해당 범주에 대한 타겟 변수의 평균 또는 다른 통계량으로 변환하는 방법입니다. 주로 회귀 문제에서 사용되며, 특정 범주의 타겟 변수 값을 대체하여 모델에 입력합니다.\n",
    "```python\n",
    "target_mapping = df.groupby('CategoricalColumn')['TargetColumn'].mean().to_dict()\n",
    "df['CategoricalColumn'] = df['CategoricalColumn'].map(target_mapping)\n",
    "```"
   ]
  },
  {
   "cell_type": "markdown",
   "metadata": {},
   "source": [
    "## 데이터 클리닝\n",
    "### 1. 결측치 처리\n",
    "- `df.isnull().sum()` # 결측치 개수 확인\n",
    "- `df.dropna()` # 결측치가 있는 행 제거\n",
    "- `df.fillna(0)` # 결측치를 0으로 대체\n",
    "- `df.fillna(df['Age'].mean(), inplace=True)` # 결측치를 평균값으로 대체\n",
    "- `df.fillna(df['Age'].median(), inplace=True)` # 결측치를 중앙값으로 대체\n",
    "- `df.fillna(df['Age'].mode()[0], inplace=True)` # 결측치를 최빈값으로 대체\n",
    "- `df['Age'] = df['Age'].fillna(df.groupby('Name')['Age'].transform('median'))` # 결측치를 그룹별 중앙값으로 대체(Name 컬럼을 기준으로 그룹화한 후, 그룹별 중앙값으로 대체)\n",
    "- `df['Age'].fillna(method='ffill', inplace=True)` # 결측치를 앞의 값으로 대체\n",
    "- `df['Age'].fillna(method='bfill', inplace=True)` # 결측치를 뒤의 값으로 대체\n",
    "- `df.interpolate(method='linear', inplace=True)` # 결측치를 선형으로 대체, 시계열 데이터에 적합\n",
    "- `df.interpolate(method='polynomial', order=2, inplace=True)` # 결측치를 2차 함수로 대체, 시계열 데이터에 적합\n",
    "- `df.interpolate(method='spline', order=2, inplace=True)` # 결측치를 2차 스플라인으로 대체, 시계열 데이터에 적합\n",
    "- `df.interpolate(method='krogh', inplace=True)` # 결측치를 Krogh 방법으로 대체, 시계열 데이터에 적합(Krogh는 곡선을 생성하지만 고차원 다항식을 생성하지 않아 과적합을 방지할 수 있음)\n",
    "- `df.interpolate(method='piecewise_polynomial', order=2, inplace=True)` # 결측치를 2차 다항식으로 대체, 시계열 데이터에 적합\n",
    "## 다중 대치법\n",
    "```python\n",
    "from sklearn.experimental import enable_iterative_imputer\n",
    "from sklearn.impute import IterativeImputer\n",
    "\n",
    "imputer = IterativeImputer(max_iter=10, random_state=0, initial_strategy='median', tol=0.001, n_nearest_features=4)\n",
    "# initial_strategy: 결측치를 대체할 초기값을 설정합니다. 'mean', 'median', 'most_frequent' 중 하나를 선택할 수 있습니다.\n",
    "# tol: 결측치 대체가 수렴하는 기준을 설정합니다.\n",
    "# n_nearest_features: 결측치 대체에 사용할 특성의 개수를 설정합니다. (default=None: 모든 특성 사용)\n",
    "\n",
    "imputed_data = imputer.fit_transform(train[['Column1', 'Column2', 'Column3', 'Column4', 'Column5']])\n",
    "# Column1 ~ Column5까지의 변수를 이용해 결측치를 다중대체법으로 대체\n",
    "train['Column1'] = imputed_data[:, 0]\n",
    "# Column1의 결측치를 다중대체법으로 대체한 값으로 대체, [:,0]으로 imputed_data의 첫 번째 컬럼을 Column1에 대입\n",
    "\n",
    "# 모든 변수를 이용해 결측치를 다중대체법으로 대체 (이 때, 범주형 변수의 경우 인코딩을 먼저 수행해야 함)\n",
    "train = pd.DataFrame(imputer.fit_transform(train), columns=train.columns)\n",
    "```"
   ]
  },
  {
   "cell_type": "code",
   "execution_count": 7,
   "metadata": {},
   "outputs": [],
   "source": [
    "import pandas as pd\n",
    "import numpy as np\n",
    "import matplotlib.pyplot as plt\n",
    "import seaborn as sns\n",
    "from sklearn.experimental import enable_iterative_imputer\n",
    "from sklearn.impute import IterativeImputer"
   ]
  },
  {
   "cell_type": "code",
   "execution_count": 21,
   "metadata": {},
   "outputs": [],
   "source": [
    "df = pd.read_csv('train.csv')"
   ]
  },
  {
   "cell_type": "code",
   "execution_count": 22,
   "metadata": {},
   "outputs": [],
   "source": [
    "imputer = IterativeImputer(max_iter=10, initial_strategy='median', tol=0.001, n_nearest_features=4)\n",
    "imputed_data = imputer.fit_transform(df[['LotFrontage', 'SalePrice','OverallCond','OverallQual']])"
   ]
  },
  {
   "cell_type": "code",
   "execution_count": 24,
   "metadata": {},
   "outputs": [],
   "source": [
    "df['LotFrontage'] = imputed_data[:,0]"
   ]
  },
  {
   "cell_type": "markdown",
   "metadata": {},
   "source": [
    "### 2. 이상치 처리\n",
    "#### IQR(Interquartile Range, 사분범위) 기반 이상치 처리 (Tukey's Fences)\n",
    "- `df.describe()` # 기술통계량 확인\n",
    "- `sns.boxplot(x=df['Column'], y=df['TargetColumn'], fliersize=2.5, whis=1.5)` # 상자그림으로 이상치 확인\n",
    "```python\n",
    "#fliersize: 이상치 마커의 크기, whis: 이상치 경계값(기본값 1.5;1.5*IQR)\n",
    "```\n",
    "- `Q1 = df['Column'].quantile(0.25)` # 1사분위수\n",
    "- `Q3 = df['Column'].quantile(0.75)` # 3사분위수\n",
    "- `IQR = Q3 - Q1` # IQR(Interquartile Range, 사분범위)\n",
    "- `lower_bound = Q1 - 1.5 * IQR` # 하한값\n",
    "- `upper_bound = Q3 + 1.5 * IQR` # 상한값\n",
    "- `df = df[(df['Column'] >= lower_bound) & (df['Column'] <= upper_bound)]` # 이상치 제거\n",
    "#### Z-Score 기반 이상치 처리\n",
    "- `from scipy import stats`\n",
    "- `z_scores = np.abs(stats.zscore(df['Column']))` # Z-Score 계산\n",
    "- `threshold = 3` # 임계값 설정\n",
    "- `df = df[(z_scores < threshold)]` # 이상치 제거\n",
    "#### DBSCAN 기반 이상치 처리\n",
    "- `from sklearn.cluster import DBSCAN`\n",
    "- `outlier_detection = DBSCAN(min_samples=2, eps=3)` # eps: 이웃을 정의하는 거리, min_samples: 핵심 샘플의 최소 개수\n",
    "- `clusters = outlier_detection.fit_predict(df)` # 이상치를 제외한 모든 샘플의 클러스터 레이블을 반환\n",
    "- `df = df[clusters != -1]` # 이상치 제거\n",
    "#### Isolation Forest 기반 이상치 처리 (다변량 이상치 탐지)\n",
    "- `from sklearn.ensemble import IsolationForest`\n",
    "- `outlier_detection = IsolationForest(contamination=0.01)` # contamination: 이상치 비율\n",
    "- `clusters = outlier_detection.fit_predict(df)` # 이상치를 제외한 모든 샘플의 클러스터 레이블을 반환\n",
    "- `df = df[clusters != -1]` # 이상치 제거\n",
    "#### Local Outlier Factor 기반 이상치 처리\n",
    "- `from sklearn.neighbors import LocalOutlierFactor`\n",
    "- `outlier_detection = LocalOutlierFactor(n_neighbors=2, contamination=0.01)` # n_neighbors: 이웃의 개수, contamination: 이상치 비율\n",
    "- `clusters = outlier_detection.fit_predict(df)` # 이상치를 제외한 모든 샘플의 클러스터 레이블을 반환\n",
    "- `df = df[clusters != -1]` # 이상치 제거\n",
    "```python\n",
    "# 이상치 제거 예시\n",
    "from sklearn.ensemble import IsolationForest\n",
    "outlier_detection = IsolationForest(max_samples = 100, contamination = 0.02, random_state = 12, n_neighbors = 10)\n",
    "clusters = outlier_detection.fit_predict(train[['LotFrontage', 'LotArea']]) # 연속형 변수만 사용, 결과는 numpy.ndarray, -1은 이상치 1은 정상치\n",
    "clusters=pd.Series(clusters)\n",
    "train=pd.concat([train, clusters], axis=1).rename(columns={0:'outlier'})\n",
    "train = train[train['outlier']!=-1]\n",
    "```"
   ]
  },
  {
   "cell_type": "code",
   "execution_count": 26,
   "metadata": {},
   "outputs": [],
   "source": [
    "import pandas as pd"
   ]
  },
  {
   "cell_type": "code",
   "execution_count": 43,
   "metadata": {},
   "outputs": [
    {
     "data": {
      "text/html": [
       "<div>\n",
       "<style scoped>\n",
       "    .dataframe tbody tr th:only-of-type {\n",
       "        vertical-align: middle;\n",
       "    }\n",
       "\n",
       "    .dataframe tbody tr th {\n",
       "        vertical-align: top;\n",
       "    }\n",
       "\n",
       "    .dataframe thead th {\n",
       "        text-align: right;\n",
       "    }\n",
       "</style>\n",
       "<table border=\"1\" class=\"dataframe\">\n",
       "  <thead>\n",
       "    <tr style=\"text-align: right;\">\n",
       "      <th></th>\n",
       "      <th>Id</th>\n",
       "      <th>MSSubClass</th>\n",
       "      <th>MSZoning</th>\n",
       "      <th>LotFrontage</th>\n",
       "      <th>LotArea</th>\n",
       "      <th>Street</th>\n",
       "      <th>Alley</th>\n",
       "      <th>LotShape</th>\n",
       "      <th>LandContour</th>\n",
       "      <th>Utilities</th>\n",
       "      <th>...</th>\n",
       "      <th>PoolArea</th>\n",
       "      <th>PoolQC</th>\n",
       "      <th>Fence</th>\n",
       "      <th>MiscFeature</th>\n",
       "      <th>MiscVal</th>\n",
       "      <th>MoSold</th>\n",
       "      <th>YrSold</th>\n",
       "      <th>SaleType</th>\n",
       "      <th>SaleCondition</th>\n",
       "      <th>SalePrice</th>\n",
       "    </tr>\n",
       "  </thead>\n",
       "  <tbody>\n",
       "    <tr>\n",
       "      <th>0</th>\n",
       "      <td>1</td>\n",
       "      <td>60</td>\n",
       "      <td>RL</td>\n",
       "      <td>65.0</td>\n",
       "      <td>8450</td>\n",
       "      <td>Pave</td>\n",
       "      <td>NaN</td>\n",
       "      <td>Reg</td>\n",
       "      <td>Lvl</td>\n",
       "      <td>AllPub</td>\n",
       "      <td>...</td>\n",
       "      <td>0</td>\n",
       "      <td>NaN</td>\n",
       "      <td>NaN</td>\n",
       "      <td>NaN</td>\n",
       "      <td>0</td>\n",
       "      <td>2</td>\n",
       "      <td>2008</td>\n",
       "      <td>WD</td>\n",
       "      <td>Normal</td>\n",
       "      <td>208500</td>\n",
       "    </tr>\n",
       "    <tr>\n",
       "      <th>1</th>\n",
       "      <td>2</td>\n",
       "      <td>20</td>\n",
       "      <td>RL</td>\n",
       "      <td>80.0</td>\n",
       "      <td>9600</td>\n",
       "      <td>Pave</td>\n",
       "      <td>NaN</td>\n",
       "      <td>Reg</td>\n",
       "      <td>Lvl</td>\n",
       "      <td>AllPub</td>\n",
       "      <td>...</td>\n",
       "      <td>0</td>\n",
       "      <td>NaN</td>\n",
       "      <td>NaN</td>\n",
       "      <td>NaN</td>\n",
       "      <td>0</td>\n",
       "      <td>5</td>\n",
       "      <td>2007</td>\n",
       "      <td>WD</td>\n",
       "      <td>Normal</td>\n",
       "      <td>181500</td>\n",
       "    </tr>\n",
       "    <tr>\n",
       "      <th>2</th>\n",
       "      <td>3</td>\n",
       "      <td>60</td>\n",
       "      <td>RL</td>\n",
       "      <td>68.0</td>\n",
       "      <td>11250</td>\n",
       "      <td>Pave</td>\n",
       "      <td>NaN</td>\n",
       "      <td>IR1</td>\n",
       "      <td>Lvl</td>\n",
       "      <td>AllPub</td>\n",
       "      <td>...</td>\n",
       "      <td>0</td>\n",
       "      <td>NaN</td>\n",
       "      <td>NaN</td>\n",
       "      <td>NaN</td>\n",
       "      <td>0</td>\n",
       "      <td>9</td>\n",
       "      <td>2008</td>\n",
       "      <td>WD</td>\n",
       "      <td>Normal</td>\n",
       "      <td>223500</td>\n",
       "    </tr>\n",
       "    <tr>\n",
       "      <th>3</th>\n",
       "      <td>4</td>\n",
       "      <td>70</td>\n",
       "      <td>RL</td>\n",
       "      <td>60.0</td>\n",
       "      <td>9550</td>\n",
       "      <td>Pave</td>\n",
       "      <td>NaN</td>\n",
       "      <td>IR1</td>\n",
       "      <td>Lvl</td>\n",
       "      <td>AllPub</td>\n",
       "      <td>...</td>\n",
       "      <td>0</td>\n",
       "      <td>NaN</td>\n",
       "      <td>NaN</td>\n",
       "      <td>NaN</td>\n",
       "      <td>0</td>\n",
       "      <td>2</td>\n",
       "      <td>2006</td>\n",
       "      <td>WD</td>\n",
       "      <td>Abnorml</td>\n",
       "      <td>140000</td>\n",
       "    </tr>\n",
       "    <tr>\n",
       "      <th>4</th>\n",
       "      <td>5</td>\n",
       "      <td>60</td>\n",
       "      <td>RL</td>\n",
       "      <td>84.0</td>\n",
       "      <td>14260</td>\n",
       "      <td>Pave</td>\n",
       "      <td>NaN</td>\n",
       "      <td>IR1</td>\n",
       "      <td>Lvl</td>\n",
       "      <td>AllPub</td>\n",
       "      <td>...</td>\n",
       "      <td>0</td>\n",
       "      <td>NaN</td>\n",
       "      <td>NaN</td>\n",
       "      <td>NaN</td>\n",
       "      <td>0</td>\n",
       "      <td>12</td>\n",
       "      <td>2008</td>\n",
       "      <td>WD</td>\n",
       "      <td>Normal</td>\n",
       "      <td>250000</td>\n",
       "    </tr>\n",
       "  </tbody>\n",
       "</table>\n",
       "<p>5 rows × 81 columns</p>\n",
       "</div>"
      ],
      "text/plain": [
       "   Id  MSSubClass MSZoning  LotFrontage  LotArea Street Alley LotShape  \\\n",
       "0   1          60       RL         65.0     8450   Pave   NaN      Reg   \n",
       "1   2          20       RL         80.0     9600   Pave   NaN      Reg   \n",
       "2   3          60       RL         68.0    11250   Pave   NaN      IR1   \n",
       "3   4          70       RL         60.0     9550   Pave   NaN      IR1   \n",
       "4   5          60       RL         84.0    14260   Pave   NaN      IR1   \n",
       "\n",
       "  LandContour Utilities  ... PoolArea PoolQC Fence MiscFeature MiscVal MoSold  \\\n",
       "0         Lvl    AllPub  ...        0    NaN   NaN         NaN       0      2   \n",
       "1         Lvl    AllPub  ...        0    NaN   NaN         NaN       0      5   \n",
       "2         Lvl    AllPub  ...        0    NaN   NaN         NaN       0      9   \n",
       "3         Lvl    AllPub  ...        0    NaN   NaN         NaN       0      2   \n",
       "4         Lvl    AllPub  ...        0    NaN   NaN         NaN       0     12   \n",
       "\n",
       "  YrSold  SaleType  SaleCondition  SalePrice  \n",
       "0   2008        WD         Normal     208500  \n",
       "1   2007        WD         Normal     181500  \n",
       "2   2008        WD         Normal     223500  \n",
       "3   2006        WD        Abnorml     140000  \n",
       "4   2008        WD         Normal     250000  \n",
       "\n",
       "[5 rows x 81 columns]"
      ]
     },
     "execution_count": 43,
     "metadata": {},
     "output_type": "execute_result"
    }
   ],
   "source": [
    "df = pd.read_csv('train.csv')\n",
    "df.dropna(axis=0, subset=['LotFrontage'], inplace=True)\n",
    "df.head()"
   ]
  },
  {
   "cell_type": "code",
   "execution_count": 44,
   "metadata": {},
   "outputs": [
    {
     "name": "stdout",
     "output_type": "stream",
     "text": [
      "[1 1 1 ... 1 1 1]\n"
     ]
    }
   ],
   "source": [
    "from sklearn.ensemble import IsolationForest\n",
    "\n",
    "outlier_detection = IsolationForest(max_samples = 100, contamination = 0.02, random_state = 12)\n",
    "clusters = outlier_detection.fit_predict(df[['LotFrontage', 'LotArea']])\n",
    "print(clusters)"
   ]
  },
  {
   "cell_type": "code",
   "execution_count": 45,
   "metadata": {},
   "outputs": [],
   "source": [
    "df['outlier'] = clusters\n",
    "df = df[df['outlier'] != -1]\n",
    "df.drop(['outlier'], axis=1, inplace=True)"
   ]
  },
  {
   "cell_type": "markdown",
   "metadata": {},
   "source": [
    "### 3. 중복 데이터 처리\n",
    "- `df.duplicated().sum()` # 중복 데이터 개수 확인\n",
    "- `df.drop_duplicates(inplace=True)` # 중복 데이터 제거"
   ]
  },
  {
   "cell_type": "markdown",
   "metadata": {},
   "source": [
    "### 4. 클래스 불균형 처리\n",
    "- 데이터를 변경하는 것이 아니라, 데이터를 생성하는 방식으로 불균형을 처리함\n",
    "##### 4-1. 언더샘플링\n",
    "- `from imblearn.under_sampling import RandomUnderSampler`\n",
    "- `rus = RandomUnderSampler()` # RandomUnderSampler 객체 생성\n",
    "- `X_rus, y_rus = rus.fit_resample(X, y)` # 언더샘플링 수행\n",
    "##### 4-2. 오버샘플링\n",
    "- `from imblearn.over_sampling import RandomOverSampler`\n",
    "- `ros = RandomOverSampler()` # RandomOverSampler 객체 생성\n",
    "- `X_ros, y_ros = ros.fit_resample(X, y)` # 오버샘플링 수행\n",
    "##### 4-3. SMOTE\n",
    "- `from imblearn.over_sampling import SMOTE`\n",
    "- `smote = SMOTE(sampling_strategy='auto', k_neighbors=5)` # SMOTE 객체 생성, sampling_strategy: 샘플링 전략(기본값 auto, minority, not minority, all, not majority)\n",
    "- `X_smote, y_smote = smote.fit_resample(X, y)` # SMOTE 수행\n",
    "##### 4-3-1. Borderline-SMOTE\n",
    "- `from imblearn.over_sampling import BorderlineSMOTE`\n",
    "- `bsmote = BorderlineSMOTE(sampling_strategy='auto', k_neighbors=5)` # Borderline-SMOTE 객체 생성\n",
    "- `X_bsmote, y_bsmote = bsmote.fit_resample(X, y)` # Borderline-SMOTE 수행\n",
    "##### 4-3-2. K-Means SMOTE\n",
    "- `from imblearn.over_sampling import KMeansSMOTE`\n",
    "- `ksmote = KMeansSMOTE(k_neighbors=5)` # K-Means SMOTE 객체 생성\n",
    "- `X_ksmote, y_ksmote = ksmote.fit_resample(X, y)` # K-Means SMOTE 수행\n",
    "##### 4-3-3. SVMSMOTE(Support Vector Machine SMOTE)\n",
    "- `from imblearn.over_sampling import SVMSMOTE`\n",
    "- `svmote = SVMSMOTE()` # SVMSMOTE 객체 생성\n",
    "- `X_svmote, y_svmote = svmote.fit_resample(X, y)` # SVMSMOTE 수행\n",
    "##### 4-4. ADASYN(Adaptive Synthetic Sampling): 가중치를 부여하여 샘플링\n",
    "- `from imblearn.over_sampling import ADASYN`\n",
    "- `adasyn = ADASYN()` # ADASYN 객체 생성\n",
    "- `X_adasyn, y_adasyn = adasyn.fit_resample(X, y)` # ADASYN 수행"
   ]
  },
  {
   "cell_type": "code",
   "execution_count": 27,
   "metadata": {},
   "outputs": [
    {
     "data": {
      "image/png": "[encoded data removed]",
      "text/plain": [
       "<Figure size 432x288 with 1 Axes>"
      ]
     },
     "metadata": {
      "needs_background": "light"
     },
     "output_type": "display_data"
    },
    {
     "data": {
      "image/png": "[encoded data removed]",
      "text/plain": [
       "<Figure size 432x288 with 1 Axes>"
      ]
     },
     "metadata": {
      "needs_background": "light"
     },
     "output_type": "display_data"
    }
   ],
   "source": [
    "import pandas as pd\n",
    "import numpy as np\n",
    "import seaborn as sns\n",
    "import matplotlib.pyplot as plt\n",
    "df = pd.read_csv('train.csv')\n",
    "df.dropna(axis=1, inplace=True)\n",
    "df.describe(include='O')\n",
    "#MSZoning의불균형 처리\n",
    "sns.scatterplot(x='OverallQual', y='SalePrice', hue='MSZoning', data=df)\n",
    "plt.show()\n",
    "\n",
    "#SMOTE\n",
    "from imblearn.over_sampling import SMOTE\n",
    "smote = SMOTE()\n",
    "X_smote, y_smote = smote.fit_resample(df[['SalePrice', 'OverallQual', 'OverallCond']], df['MSZoning'])\n",
    "smote_df = pd.concat([X_smote, y_smote], axis=1)\n",
    "sns.scatterplot(x='OverallQual', y='SalePrice', hue='MSZoning', data=smote_df)\n",
    "plt.show()"
   ]
  },
  {
   "cell_type": "markdown",
   "metadata": {},
   "source": [
    "## 5. 특성 공학\n",
    "- `df['NewColumn'] = df['Column1'] +-*/ df['Column2']` # 새로운 특성 생성\n",
    "- `df['NewColumn'] = df['Column1'] ** df['Column2']` # 새로운 특성 생성\n",
    "- `df['NewColumn'] = df['Column1'] % df['Column2']` # 새로운 특성 생성\n",
    "- `df['NewColumn'] = df['Column1'].apply(lambda x: x**2)` # 새로운 특성 생성\n",
    "- `df['NewColumn'] = df['Column1'].apply(lambda x: x**0.5)` # 새로운 특성 생성\n",
    "- `df['NewColumn'] = df['Column1'].apply(lambda x: np.log(x))` # 새로운 특성 생성\n",
    "- `df['NewColumn'] = df['Column1'].apply(lambda x: np.exp(x))` # 새로운 특성 생성"
   ]
  },
  {
   "cell_type": "markdown",
   "metadata": {},
   "source": [
    "## 6. 특성 스케일링\n",
    "#### 표준화, 정규화(Standardization, Normalization)\n",
    "```python\n",
    "from sklearn.preprocessing import StandardScaler, MinMaxScaler, RobustScaler, QuantileTransformer, PowerTransformer\n",
    "\n",
    "scaler = StandardScaler()\n",
    "df['Column'] = scaler.fit_transform(df[['Column']])\n",
    "```\n",
    "- `StandardScaler`: 평균이 0과 표준편차가 1이 되도록 변환, 공식: (X - X의 평균) / X의 표준편차\n",
    "- `MinMaxScaler`: 0~1사이의 값으로 변환, 공식: (X - X의 최소값) / (X의 최대값 - X의 최소값)\n",
    "- `RobustScaler`: 중앙값(median)이 0, IQR(interquartile range)이 1이 되도록 변환, 공식: (X - Q2) / (Q3 - Q1) (이상치 영향 최소화)\n",
    "- `QuantileTransformer`: 데이터를 정규분포 형태로 변환, 공식: (X - X의 중앙값) / X의 IQR\n",
    "- `PowerTransformer`: yeojohnson, boxcox 변환을 사용하여 데이터를 정규분포 형태로 변환 (boxcox는 양수 데이터만 변환 가능, yeojohnson은 음수 데이터도 변환 가능)\n",
    "```python\n",
    "from sklearn.preprocessing import PowerTransformer\n",
    "\n",
    "scaler = PowerTransformer(method='yeo-johnson') # yeo-johnson, box-cox\n",
    "df['Column'] = scaler.fit_transform(df[['Column']])\n",
    "```"
   ]
  },
  {
   "cell_type": "markdown",
   "metadata": {},
   "source": [
    "### 7. 특성 선택\n",
    "#### 상관관계 기반 특성 선택\n",
    "- `df.corr()` # 상관관계 확인\n",
    "- `df.corr()['TargetColumn'].sort_values(ascending=False)` # TargetColumn과의 상관관계 확인\n",
    "- `high_corr = df.corr()['TargetColumn'].sort_values(ascending=False).head(3)` # TargetColumn과의 상관관계가 높은 상위 3개 특성 확인\n",
    "- `df = df[high_corr.index]` # 상위 3개 특성만 선택\n",
    "#### Lasso, Ridge 기반 특성 선택\n",
    "- `from sklearn.linear_model import Lasso, Ridge`\n",
    "- `lasso = Lasso(alpha=0.01)` # alpha: 규제 정도\n",
    "- `lasso.fit(X_train, y_train)` # 특성 중요도 계산\n",
    "- `lasso.coef_` # 특성 중요도 확인\n",
    "- `df = df[lasso.coef_ != 0]` # 특성 중요도가 0이 아닌 특성만 선택, 혹은 특성 중요도가 상위 3개인 특성만 선택 등...\n",
    "#### SelectKBest 기반 특성 선택\n",
    "- `from sklearn.feature_selection import SelectKBest, f_regression`\n",
    "- `selector = SelectKBest(score_func=f_regression, k=3)` # score_func: 특성 중요도를 계산하는 함수, k: 선택할 특성의 개수\n",
    "- `selector.fit(X_train, y_train)` # 특성 중요도 계산\n",
    "- `selector.scores_` # 특성 중요도 확인\n",
    "#### RFE(Recursive Feature Elimination) 기반 특성 선택\n",
    "- `from sklearn.feature_selection import RFE`\n",
    "- `from sklearn.linear_model import LinearRegression`\n",
    "- `rfe = RFE(estimator=LinearRegression(), n_features_to_select=3)` # n_features_to_select: 선택할 특성의 개수\n",
    "- `rfe.fit(X_train, y_train)` # 특성 중요도 계산\n",
    "- `rfe.support_` # 선택된 특성 확인 (True: 선택, False: 선택되지 않음)\n",
    "- `rfe.ranking_` # 특성 순위 확인 (1: 가장 중요, 2: 두 번째로 중요, ...)\n",
    "- `df = df[df.columns[rfe.support_]]` # 선택된 특성만 선택\n",
    "#### 트리 기반 특성 선택\n",
    "- `from sklearn.ensemble import RandomForestRegressor`\n",
    "- `rf = RandomForestRegressor(n_estimators=100)` # n_estimators: 트리의 개수\n",
    "- `rf.fit(X_train, y_train)` # 특성 중요도 계산\n",
    "- `rf.feature_importances_` # 특성 중요도 확인\n",
    "- `df = df[df.columns[rf.feature_importances_ > 0.01]]` # 특성 중요도가 0.01보다 큰 특성만 선택\n",
    "#### PCA(Principal Component Analysis) 기반 특성 선택\n",
    "- `from sklearn.decomposition import PCA`\n",
    "- `pca = PCA(n_components=3)` # n_components: 선택할 특성의 개수\n",
    "- `pca.fit(X_train)` # 특성 중요도 계산\n",
    "- `pca.explained_variance_ratio_` # 특성 중요도 확인\n",
    "- `df = pd.DataFrame(pca.transform(df))` # 선택된 특성만 선택"
   ]
  },
  {
   "cell_type": "code",
   "execution_count": 54,
   "metadata": {},
   "outputs": [
    {
     "data": {
      "text/plain": [
       "SalePrice      1.000000\n",
       "OverallQual    0.790982\n",
       "GrLivArea      0.708624\n",
       "GarageCars     0.640409\n",
       "GarageArea     0.623431\n",
       "Name: SalePrice, dtype: float64"
      ]
     },
     "execution_count": 54,
     "metadata": {},
     "output_type": "execute_result"
    }
   ],
   "source": [
    "df = pd.read_csv('train.csv')\n",
    "high_corr = df.corr()['SalePrice'].sort_values(ascending=False).head(5)\n",
    "high_corr"
   ]
  },
  {
   "cell_type": "code",
   "execution_count": 55,
   "metadata": {},
   "outputs": [
    {
     "data": {
      "text/html": [
       "<div>\n",
       "<style scoped>\n",
       "    .dataframe tbody tr th:only-of-type {\n",
       "        vertical-align: middle;\n",
       "    }\n",
       "\n",
       "    .dataframe tbody tr th {\n",
       "        vertical-align: top;\n",
       "    }\n",
       "\n",
       "    .dataframe thead th {\n",
       "        text-align: right;\n",
       "    }\n",
       "</style>\n",
       "<table border=\"1\" class=\"dataframe\">\n",
       "  <thead>\n",
       "    <tr style=\"text-align: right;\">\n",
       "      <th></th>\n",
       "      <th>SalePrice</th>\n",
       "      <th>OverallQual</th>\n",
       "      <th>GrLivArea</th>\n",
       "      <th>GarageCars</th>\n",
       "      <th>GarageArea</th>\n",
       "    </tr>\n",
       "  </thead>\n",
       "  <tbody>\n",
       "    <tr>\n",
       "      <th>0</th>\n",
       "      <td>208500</td>\n",
       "      <td>7</td>\n",
       "      <td>1710</td>\n",
       "      <td>2</td>\n",
       "      <td>548</td>\n",
       "    </tr>\n",
       "    <tr>\n",
       "      <th>1</th>\n",
       "      <td>181500</td>\n",
       "      <td>6</td>\n",
       "      <td>1262</td>\n",
       "      <td>2</td>\n",
       "      <td>460</td>\n",
       "    </tr>\n",
       "    <tr>\n",
       "      <th>2</th>\n",
       "      <td>223500</td>\n",
       "      <td>7</td>\n",
       "      <td>1786</td>\n",
       "      <td>2</td>\n",
       "      <td>608</td>\n",
       "    </tr>\n",
       "  </tbody>\n",
       "</table>\n",
       "</div>"
      ],
      "text/plain": [
       "   SalePrice  OverallQual  GrLivArea  GarageCars  GarageArea\n",
       "0     208500            7       1710           2         548\n",
       "1     181500            6       1262           2         460\n",
       "2     223500            7       1786           2         608"
      ]
     },
     "execution_count": 55,
     "metadata": {},
     "output_type": "execute_result"
    }
   ],
   "source": [
    "df = df[high_corr.index]\n",
    "df.head(3)"
   ]
  },
  {
   "cell_type": "code",
   "execution_count": 62,
   "metadata": {},
   "outputs": [
    {
     "data": {
      "text/plain": [
       "array([1, 1, 1])"
      ]
     },
     "execution_count": 62,
     "metadata": {},
     "output_type": "execute_result"
    }
   ],
   "source": [
    "df=pd.read_csv('train.csv')\n",
    "df=df[['OverallQual','OverallCond','YearBuilt','SalePrice']]\n",
    "from sklearn.feature_selection import RFE\n",
    "from sklearn.linear_model import LinearRegression\n",
    "rfe=RFE(LinearRegression(),n_features_to_select=5)\n",
    "rfe.fit(df.drop(['SalePrice'],axis=1),df['SalePrice'])\n",
    "rfe.ranking_\n"
   ]
  },
  {
   "cell_type": "code",
   "execution_count": 63,
   "metadata": {},
   "outputs": [
    {
     "data": {
      "text/plain": [
       "array([41643.26983743,  2443.69703014,   317.88993581])"
      ]
     },
     "execution_count": 63,
     "metadata": {},
     "output_type": "execute_result"
    }
   ],
   "source": [
    "df=pd.read_csv('train.csv')\n",
    "df=df[['OverallQual','OverallCond','YearBuilt','SalePrice']]\n",
    "from sklearn.linear_model import Lasso\n",
    "lasso=Lasso(alpha=0.1)\n",
    "lasso.fit(df.drop(['SalePrice'],axis=1),df['SalePrice'])\n",
    "lasso.coef_"
   ]
  },
  {
   "cell_type": "code",
   "execution_count": 64,
   "metadata": {},
   "outputs": [
    {
     "data": {
      "text/plain": [
       "array([0.99743437, 0.0015233 ])"
      ]
     },
     "execution_count": 64,
     "metadata": {},
     "output_type": "execute_result"
    }
   ],
   "source": [
    "df=pd.read_csv('train.csv')\n",
    "df=df[['OverallQual','OverallCond','YearBuilt','SalePrice']]\n",
    "from sklearn.decomposition import PCA\n",
    "pca=PCA(n_components=2)\n",
    "pca.fit(df.drop(['SalePrice'],axis=1))\n",
    "pca.explained_variance_ratio_"
   ]
  }
 ],
 "metadata": {
  "kernelspec": {
   "display_name": "Python 3.7.4 ('ADP': venv)",
   "language": "python",
   "name": "python3"
  },
  "language_info": {
   "codemirror_mode": {
    "name": "ipython",
    "version": 3
   },
   "file_extension": ".py",
   "mimetype": "text/x-python",
   "name": "python",
   "nbconvert_exporter": "python",
   "pygments_lexer": "ipython3",
   "version": "3.7.4"
  },
  "orig_nbformat": 4,
  "vscode": {
   "interpreter": {
    "hash": "64df2b5c0d75980c000f93aa706f03927c32d7fe53a04d5f72efc116386d713c"
   }
  }
 },
 "nbformat": 4,
 "nbformat_minor": 2
}
