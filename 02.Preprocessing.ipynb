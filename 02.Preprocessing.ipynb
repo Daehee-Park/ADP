{
 "cells": [
  {
   "cell_type": "markdown",
   "metadata": {},
   "source": [
    "## 인코딩 방법 정리\n",
    "### 원핫인코딩 (One-Hot Encoding)\n",
    "- 원핫인코딩은 범주형 데이터를 수치형 데이터로 변환하는 방법입니다. 각 범주를 새로운 열로 나타내며, 해당 범주에 속하면 1, 속하지 않으면 0의 값을 가집니다.\n",
    "```python\n",
    "encoded_df = pd.get_dummies(df, columns=['CategoricalColumn'])\n",
    "```\n",
    "### 레이블인코딩 (Label Encoding)\n",
    "레이블인코딩은 범주형 데이터를 순차적인 숫자로 변환하는 방법입니다. 주의해야 할 점은 숫자의 크기에 의미가 없는 경우에는 사용하지 않는 것이 좋습니다.\n",
    "```python\n",
    "from sklearn.preprocessing import LabelEncoder\n",
    "\n",
    "label_encoder = LabelEncoder()\n",
    "df['CategoricalColumn'] = label_encoder.fit_transform(df['CategoricalColumn'])\n",
    "```\n",
    "### 순서인코딩 (Ordinal Encoding)\n",
    "순서인코딩은 범주형 데이터를 순서를 고려하여 숫자로 변환하는 방법입니다. 범주 간의 순서가 중요한 경우에 사용됩니다.\n",
    "```python\n",
    "order_mapping = {'Low': 0, 'Medium': 1, 'High': 2}\n",
    "df['CategoricalColumn'] = df['CategoricalColumn'].map(order_mapping)\n",
    "```\n",
    "### 타겟인코딩 (Target Encoding)\n",
    "타겟인코딩은 범주형 데이터를 해당 범주에 대한 타겟 변수의 평균 또는 다른 통계량으로 변환하는 방법입니다. 주로 회귀 문제에서 사용되며, 특정 범주의 타겟 변수 값을 대체하여 모델에 입력합니다.\n",
    "```python\n",
    "target_mapping = df.groupby('CategoricalColumn')['TargetColumn'].mean().to_dict()\n",
    "df['CategoricalColumn'] = df['CategoricalColumn'].map(target_mapping)\n",
    "```"
   ]
  }
 ],
 "metadata": {
  "kernelspec": {
   "display_name": "Python 3",
   "language": "python",
   "name": "python3"
  },
  "language_info": {
   "codemirror_mode": {
    "name": "ipython",
    "version": 3
   },
   "file_extension": ".py",
   "mimetype": "text/x-python",
   "name": "python",
   "nbconvert_exporter": "python",
   "pygments_lexer": "ipython3",
   "version": "3.10.11"
  },
  "orig_nbformat": 4
 },
 "nbformat": 4,
 "nbformat_minor": 2
}
