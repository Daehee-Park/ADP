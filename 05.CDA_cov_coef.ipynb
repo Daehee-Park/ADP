{
 "cells": [
  {
   "cell_type": "code",
   "execution_count": 1,
   "metadata": {},
   "outputs": [],
   "source": [
    "import pandas as pd\n",
    "import numpy as np\n",
    "import matplotlib.pyplot as plt\n",
    "import seaborn as sns"
   ]
  },
  {
   "attachments": {},
   "cell_type": "markdown",
   "metadata": {},
   "source": [
    "#### 공분산"
   ]
  },
  {
   "cell_type": "code",
   "execution_count": 7,
   "metadata": {},
   "outputs": [
    {
     "name": "stdout",
     "output_type": "stream",
     "text": [
      "X와 Y의 공분산: \n",
      "7.6111\n",
      "공분산 행렬: \n",
      "          X         Y\n",
      "X  9.166667  7.611111\n",
      "Y  7.611111  9.788889\n",
      "X와 Y의 공분산: \n",
      "7.6111\n"
     ]
    }
   ],
   "source": [
    "# 공분산이란: 두 변수의 관계를 보여주는 값, 양이면 양의 상관관계, 음이면 음의 상관관계\n",
    "# 두 변수가 독립이면 공분산은 0이다.\n",
    "# 하지만, 공분산이 0이라고 해서 두 변수가 독립이라고 할 수 없다. (비선형 관계일 수 있음)\n",
    "X = np.array([1,2,3,4,5,6,7,8,9,10])\n",
    "Y = np.array([2,4,3,7,1,5,8,8,10,9])\n",
    "cov_matrix = np.cov(X,Y)\n",
    "print(f'X와 Y의 공분산: \\n{cov_matrix[0][1]:.4f}')\n",
    "cov_dataframe = pd.DataFrame(cov_matrix, columns=['X','Y'], index=['X','Y'])\n",
    "print(f'공분산 행렬: \\n{cov_dataframe}')\n",
    "print(f'X와 Y의 공분산: \\n{cov_dataframe[\"X\"][\"Y\"]:.4f}')"
   ]
  }
 ],
 "metadata": {
  "kernelspec": {
   "display_name": "Python 3",
   "language": "python",
   "name": "python3"
  },
  "language_info": {
   "codemirror_mode": {
    "name": "ipython",
    "version": 3
   },
   "file_extension": ".py",
   "mimetype": "text/x-python",
   "name": "python",
   "nbconvert_exporter": "python",
   "pygments_lexer": "ipython3",
   "version": "3.10.11"
  },
  "orig_nbformat": 4
 },
 "nbformat": 4,
 "nbformat_minor": 2
}
